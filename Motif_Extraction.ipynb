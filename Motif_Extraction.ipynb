{
 "cells": [
  {
   "cell_type": "code",
   "execution_count": 22,
   "metadata": {},
   "outputs": [],
   "source": [
    "import os \n",
    "import csv\n",
    "import copy\n",
    "import math \n",
    "import gzip\n",
    "import torch\n",
    "import random\n",
    "import warnings\n",
    "import numpy as np\n",
    "import pandas as pd\n",
    "import seaborn as sns\n",
    "import torch.nn as nn\n",
    "from sklearn import metrics\n",
    "import matplotlib.pyplot as plt\n",
    "import torch.nn.functional as F\n",
    "from torch.utils.data import Dataset, DataLoader\n",
    "warnings.filterwarnings(\"ignore\")"
   ]
  },
  {
   "cell_type": "code",
   "execution_count": 23,
   "metadata": {},
   "outputs": [],
   "source": [
    "global device\n",
    "device = 'cuda' if torch.cuda.is_available() else 'cpu' "
   ]
  },
  {
   "cell_type": "code",
   "execution_count": null,
   "metadata": {},
   "outputs": [],
   "source": [
    "def genome_data(data_file):\n",
    "    data=open(data_file).read()\n",
    "    chromosomes_data = data.split('>')[1:]\n",
    "    return (chromosomes_data)\n",
    "\n",
    "def Read_bed_file(chromosomes_data,peak_file,seq_length,Chr_dict):\n",
    "    peaks = open(peak_file).readlines()\n",
    "    if Chr_dict==None:\n",
    "        Chr_dict = {}\n",
    "        i=0\n",
    "        for chrom_data in chromosomes_data:\n",
    "            ref = chrom_data.split('\\n')[0].split(' ')[-1][1:-1]\n",
    "            Chr_dict[ref]=i\n",
    "            i+=1\n",
    "        Chr_dict['chromosome=Mito'] = Chr_dict.pop('top=circular')\n",
    "    peak_sequences = []\n",
    "    for peak in peaks:\n",
    "        peak_split = peak.split('\\t')\n",
    "        Chr = 'chromosome='+str(peak_split[0])\n",
    "        start_idx = max(int(peak_split[1])-seq_length//2,0)\n",
    "        end_idx = start_idx+seq_length\n",
    "        if Chr in Chr_dict:\n",
    "            peak_sequences.append(''.join(chromosomes_data[Chr_dict[Chr]].split('\\n')[1:])[start_idx:end_idx])\n",
    "    return (peak_sequences)\n",
    "\n",
    "def Read_narrow_file(chromosomes_data,peak_file):\n",
    "    peaks = open(peak_file).readlines()\n",
    "    if Chr_dict==None:\n",
    "        Chr_dict = {}\n",
    "        i=0\n",
    "        for chrom_data in chromosomes_data:\n",
    "            ref = chrom_data.split('\\n')[0].split(' ')[-1][1:-1]\n",
    "            Chr_dict[ref]=i\n",
    "            i+=1\n",
    "        Chr_dict['chromosome=Mito'] = Chr_dict.pop('top=circular')\n",
    "    for peak in peaks:\n",
    "        peak_split = peak.split('\\t')\n",
    "        Chr = 'chromosome='+str(peak_split[0])\n",
    "        start_idx = max(int(peak_split[1])-seq_length//2,0)\n",
    "        end_idx = start_idx+seq_length\n",
    "        if Chr in Chr_dict:\n",
    "            peak_sequences.append(''.join(chromosomes_data[Chr_dict[Chr]].split('\\n')[1:])[start_idx:end_idx])\n",
    "    return (peak_sequences)\n",
    "    return None"
   ]
  }
 ],
 "metadata": {
  "kernelspec": {
   "display_name": "Python 3",
   "language": "python",
   "name": "python3"
  },
  "language_info": {
   "codemirror_mode": {
    "name": "ipython",
    "version": 3
   },
   "file_extension": ".py",
   "mimetype": "text/x-python",
   "name": "python",
   "nbconvert_exporter": "python",
   "pygments_lexer": "ipython3",
   "version": "3.9.13"
  },
  "orig_nbformat": 4
 },
 "nbformat": 4,
 "nbformat_minor": 2
}
